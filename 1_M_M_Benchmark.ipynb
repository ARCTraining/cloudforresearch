{
 "cells": [
  {
   "cell_type": "markdown",
   "metadata": {
    "collapsed": true
   },
   "source": [
    "## Measuring the floating point performance of your machine"
   ]
  },
  {
   "cell_type": "markdown",
   "metadata": {},
   "source": [
    "From: https://notebooks.azure.com/anon-nbnlca/libraries/MatrixMatrix-1/html/MatrixMatrix%20benchmark.ipynb"
   ]
  },
  {
   "cell_type": "markdown",
   "metadata": {},
   "source": [
    "Matrix-Matrix multiplication is often used to benchmark machines because the mathematics is such that it is one of the few operations where one can obtain close to theoretical peak performance in pratice.\n",
    "The number of floating point operations(Flops) in a Matrix-Matrix multiplication of two  N\n",
    "  x  N\n",
    "  matrices is given by  2N3−N2\n",
    " (See http://www2.hawaii.edu/~norbert/CompPhys/compphysicsch10.html for details of how this was determined).\n",
    "For this benchmark, we construct two random  N\n",
    "  x  N\n",
    "  matrices and time how long it takes to multiply them together,  t\n",
    " . We then compute the number of Gigaflops/s exhibited by that operation via  2N3−N2t∗109\n",
    " . We do this several times for any given  N\n",
    "  and record the average and the best (peak) results obtained.  N\n",
    "  is then varied from 250 to 10,000 in steps of 250 to see how performance varies with matrix size. Usually, the highest performance is obtained by multiplying large matrices together.\n",
    "For highest performance, you should use a version of numpy that has been linked against a high performance BLAS library such as OpenBLAS or the Intel MKL(https://software.intel.com/en-us/intel-mkl). The Anaconda Python distribution includes the Intel MKL by default on Windows and Linux (Mac includes its own high performance BLAS library)."
   ]
  },
  {
   "cell_type": "code",
   "execution_count": 1,
   "metadata": {},
   "outputs": [
    {
     "name": "stdout",
     "output_type": "stream",
     "text": [
      "Solving environment: done\n",
      "\n",
      "\n",
      "==> WARNING: A newer version of conda exists. <==\n",
      "  current version: 4.4.7\n",
      "  latest version: 4.4.9\n",
      "\n",
      "Please update conda by running\n",
      "\n",
      "    $ conda update -n base conda\n",
      "\n",
      "\n",
      "\n",
      "## Package Plan ##\n",
      "\n",
      "  environment location: /home/nbuser/anaconda3_501\n",
      "\n",
      "  added / updated specs: \n",
      "    - spacy\n",
      "\n",
      "\n",
      "The following packages will be downloaded:\n",
      "\n",
      "    package                    |            build\n",
      "    ---------------------------|-----------------\n",
      "    msgpack-numpy-0.4.1        |   py36hfef8c07_0          13 KB\n",
      "    plac-0.9.6                 |           py36_0          34 KB\n",
      "    murmurhash-0.28.0          |           py36_0          33 KB\n",
      "    preshed-1.0.0              |           py36_0         213 KB\n",
      "    html5lib-1.0.1             |   py36h2f9c1c0_0         181 KB\n",
      "    sqlite-3.22.0              |       h1bed415_0         1.5 MB\n",
      "    wheel-0.30.0               |   py36hfd4bba0_1          67 KB\n",
      "    asn1crypto-0.24.0          |           py36_0         155 KB\n",
      "    msgpack-python-0.5.1       |   py36h6bb024c_0          98 KB\n",
      "    ftfy-4.4.3                 |           py36_0          51 KB\n",
      "    cymem-1.31.2               |           py36_0          63 KB\n",
      "    tqdm-4.19.4                |   py36ha5a5176_0          53 KB\n",
      "    pip-9.0.1                  |   py36h6c6f9ce_4         2.2 MB\n",
      "    regex-2017.4.5             |           py36_0         622 KB\n",
      "    numpy-1.14.0               |   py36h3dfced4_1         4.0 MB\n",
      "    setuptools-38.4.0          |           py36_0         525 KB\n",
      "    ujson-1.35                 |           py36_0          62 KB\n",
      "    cffi-1.11.4                |   py36h9745a5d_0         212 KB\n",
      "    pathlib-1.0.1              |           py36_0          26 KB\n",
      "    certifi-2018.1.18          |           py36_0         144 KB\n",
      "    thinc-6.10.1               |   py36hd61447b_0         1.5 MB\n",
      "    pyopenssl-17.4.0           |   py36ha353062_0          78 KB\n",
      "    readline-7.0               |       ha6073c6_4         1.1 MB\n",
      "    toolz-0.9.0                |           py36_0          91 KB\n",
      "    dill-0.2.7.1               |   py36h644ae93_0          82 KB\n",
      "    termcolor-1.1.0            |           py36_0           7 KB\n",
      "    spacy-2.0.5                |   py36hf484d3e_0        25.9 MB\n",
      "    ------------------------------------------------------------\n",
      "                                           Total:        38.9 MB\n",
      "\n",
      "The following NEW packages will be INSTALLED:\n",
      "\n",
      "    cymem:          1.31.2-py36_0                         \n",
      "    dill:           0.2.7.1-py36h644ae93_0                \n",
      "    ftfy:           4.4.3-py36_0                          \n",
      "    msgpack-numpy:  0.4.1-py36hfef8c07_0                  \n",
      "    murmurhash:     0.28.0-py36_0                         \n",
      "    pathlib:        1.0.1-py36_0                          \n",
      "    plac:           0.9.6-py36_0                          \n",
      "    preshed:        1.0.0-py36_0                          \n",
      "    readline:       7.0-ha6073c6_4                        \n",
      "    regex:          2017.4.5-py36_0                       \n",
      "    spacy:          2.0.5-py36hf484d3e_0                  \n",
      "    termcolor:      1.1.0-py36_0                          \n",
      "    thinc:          6.10.1-py36hd61447b_0                 \n",
      "    tqdm:           4.19.4-py36ha5a5176_0                 \n",
      "    ujson:          1.35-py36_0                           \n",
      "\n",
      "The following packages will be UPDATED:\n",
      "\n",
      "    asn1crypto:     0.22.0-py36h265ca7c_1                  --> 0.24.0-py36_0        \n",
      "    certifi:        2017.7.27.1-py36h8b7b77e_0             --> 2018.1.18-py36_0     \n",
      "    cffi:           1.10.0-py36had8d393_1                  --> 1.11.4-py36h9745a5d_0\n",
      "    html5lib:       0.999999999-py36h2cfc398_0             --> 1.0.1-py36h2f9c1c0_0 \n",
      "    msgpack-python: 0.4.8-py36hec4c5d1_0                   --> 0.5.1-py36h6bb024c_0 \n",
      "    numpy:          1.12.1-py36he24570b_1                  --> 1.14.0-py36h3dfced4_1\n",
      "    pip:            9.0.1-py36h8ec8b28_3                   --> 9.0.1-py36h6c6f9ce_4 \n",
      "    pyopenssl:      17.2.0-py36h5cc804b_0                  --> 17.4.0-py36ha353062_0\n",
      "    setuptools:     36.5.0-py36he42e2e1_0                  --> 38.4.0-py36_0        \n",
      "    sqlite:         3.20.1-0                   conda-forge --> 3.22.0-h1bed415_0    \n",
      "    toolz:          0.8.2-py36h81f2dff_0                   --> 0.9.0-py36_0         \n",
      "    wheel:          0.29.0-py36he7f4e38_1                  --> 0.30.0-py36hfd4bba0_1\n",
      "\n",
      "\n",
      "Downloading and Extracting Packages\n",
      "msgpack-numpy 0.4.1: ################################################### | 100% \n",
      "plac 0.9.6: ############################################################ | 100% \n",
      "murmurhash 0.28.0: ##################################################### | 100% \n",
      "preshed 1.0.0: ######################################################### | 100% \n",
      "html5lib 1.0.1: ######################################################## | 100% \n",
      "sqlite 3.22.0: ######################################################### | 100% \n",
      "wheel 0.30.0: ########################################################## | 100% \n",
      "asn1crypto 0.24.0: ##################################################### | 100% \n",
      "msgpack-python 0.5.1: ################################################## | 100% \n",
      "ftfy 4.4.3: ############################################################ | 100% \n",
      "cymem 1.31.2: ########################################################## | 100% \n",
      "tqdm 4.19.4: ########################################################### | 100% \n",
      "pip 9.0.1: ############################################################# | 100% \n",
      "regex 2017.4.5: ######################################################## | 100% \n",
      "numpy 1.14.0: ########################################################## | 100% \n",
      "setuptools 38.4.0: ##################################################### | 100% \n",
      "ujson 1.35: ############################################################ | 100% \n",
      "cffi 1.11.4: ########################################################### | 100% \n",
      "pathlib 1.0.1: ######################################################### | 100% \n",
      "certifi 2018.1.18: ##################################################### | 100% \n",
      "thinc 6.10.1: ########################################################## | 100% \n",
      "pyopenssl 17.4.0: ###################################################### | 100% \n",
      "readline 7.0: ########################################################## | 100% \n",
      "toolz 0.9.0: ########################################################### | 100% \n",
      "dill 0.2.7.1: ########################################################## | 100% \n",
      "termcolor 1.1.0: ####################################################### | 100% \n",
      "spacy 2.0.5: ########################################################### | 100% \n",
      "Preparing transaction: done\n",
      "Verifying transaction: done\n",
      "Executing transaction: done\n"
     ]
    }
   ],
   "source": [
    "!conda install -y spacy"
   ]
  },
  {
   "cell_type": "code",
   "execution_count": 4,
   "metadata": {},
   "outputs": [],
   "source": [
    "%matplotlib inline\n",
    "import spacy\n",
    "import pandas as pd\n",
    "import timeit\n",
    "import matplotlib.pyplot as plt"
   ]
  },
  {
   "cell_type": "code",
   "execution_count": 5,
   "metadata": {},
   "outputs": [],
   "source": [
    "def bench_mmm(startn,maxn,step,loops):\n",
    "    count=0\n",
    "    \n",
    "    #Preallocate results lists\n",
    "    avg_gflops = int((1+(maxn-startn)/step))*[0] \n",
    "    peak_gflops = int((1+(maxn-startn)/step))*[0]\n",
    "    raw_times = [int(loops)*[0] for i in range(int(1+(maxn-startn)/step))]\n",
    "    all_gflops = [int(loops)*[0] for i in  range(int(1+(maxn-startn)/step))]\n",
    "    mat_size=int((1+(maxn-startn)/step))*[0] \n",
    "\n",
    "    for n in range(startn,maxn+step,step):\n",
    "        setup_string = \"from pylab import rand,dot;n=%d;a=rand(n,n);b=rand(n,n)\" % n\n",
    "        time_list = timeit.repeat(\"a.dot(b)\", setup=setup_string, repeat=loops,number=1)\n",
    "        raw_times[count] = time_list\n",
    "        total_time = sum(time_list)\n",
    "        avg_time = total_time / loops\n",
    "        peak_time = min(time_list)\n",
    "        num_ops = 2*n**3-n**2\n",
    "        avg_gflops[count] = (num_ops/avg_time)/10**9\n",
    "        peak_gflops[count] = (num_ops/peak_time)/10**9\n",
    "        all_gflops[count] = [(num_ops/time)/10**9 for time in raw_times[count]]        \n",
    "        mat_size[count] = n\n",
    "        count=count+1\n",
    "    \n",
    "    plt.plot(mat_size,avg_gflops,'*-',label=\"Average over %d runs\" %loops)\n",
    "    plt.plot(mat_size,peak_gflops,'*-',label=\"Peak\")\n",
    "    plt.legend(bbox_to_anchor=(1.05, 1), loc=2, borderaxespad=0.)\n",
    "    plt.xlabel('Matrix Size');\n",
    "    plt.ylabel('GFlop/s');\n",
    "    plt.show()\n",
    "    \n",
    "    return(max(peak_gflops),raw_times,all_gflops)"
   ]
  },
  {
   "cell_type": "code",
   "execution_count": 6,
   "metadata": {},
   "outputs": [
    {
     "data": {
      "image/png": "[encoded data removed]",
      "text/plain": [
       "<matplotlib.figure.Figure at 0x7f86ff17c320>"
      ]
     },
     "metadata": {},
     "output_type": "display_data"
    }
   ],
   "source": [
    "peak_flops = bench_mmm(250,10000,250,5)"
   ]
  },
  {
   "cell_type": "code",
   "execution_count": null,
   "metadata": {},
   "outputs": [],
   "source": [
    "#Peaks at ~60 GFlop/s. About as performant as a 4-core desktop PC. For free."
   ]
  }
 ],
 "metadata": {
  "kernelspec": {
   "display_name": "Python 3.6",
   "language": "python",
   "name": "python36"
  },
  "language_info": {
   "codemirror_mode": {
    "name": "ipython",
    "version": 3
   },
   "file_extension": ".py",
   "mimetype": "text/x-python",
   "name": "python",
   "nbconvert_exporter": "python",
   "pygments_lexer": "ipython3",
   "version": "3.6.3"
  }
 },
 "nbformat": 4,
 "nbformat_minor": 2
}
