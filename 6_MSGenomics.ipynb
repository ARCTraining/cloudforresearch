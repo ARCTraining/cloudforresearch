{
 "cells": [
  {
   "cell_type": "markdown",
   "metadata": {
    "collapsed": true
   },
   "source": [
    "## Testing Microsoft Genomics API"
   ]
  },
  {
   "cell_type": "markdown",
   "metadata": {},
   "source": [
    "Full instructions here:\n",
    "    \n",
    "https://docs.microsoft.com/en-us/azure/genomics/quickstart-run-genomics-workflow-portal"
   ]
  },
  {
   "cell_type": "code",
   "execution_count": 1,
   "metadata": {},
   "outputs": [
    {
     "name": "stdout",
     "output_type": "stream",
     "text": [
      "Collecting msgen\n",
      "  Downloading msgen-0.7.3-py2-none-any.whl\n",
      "Installing collected packages: msgen\n",
      "Successfully installed msgen-0.7.3\n",
      "Requirement already satisfied: msgen in /home/nbuser/anaconda2_501/lib/python2.7/site-packages\n",
      "Collecting azure-storage==0.32.0 (from msgen)\n",
      "  Downloading azure_storage-0.32.0-py2-none-any.whl (160kB)\n",
      "\u001b[K    100% |################################| 163kB 3.7MB/s ta 0:00:01\n",
      "\u001b[?25hRequirement already satisfied: requests>=2.11.1 in /home/nbuser/anaconda2_501/lib/python2.7/site-packages (from msgen)\n",
      "Requirement already satisfied: azure-common in /home/nbuser/anaconda2_501/lib/python2.7/site-packages (from azure-storage==0.32.0->msgen)\n",
      "Requirement already satisfied: futures in /home/nbuser/anaconda2_501/lib/python2.7/site-packages (from azure-storage==0.32.0->msgen)\n",
      "Requirement already satisfied: azure-nspkg in /home/nbuser/anaconda2_501/lib/python2.7/site-packages (from azure-storage==0.32.0->msgen)\n",
      "Requirement already satisfied: python-dateutil in /home/nbuser/anaconda2_501/lib/python2.7/site-packages (from azure-storage==0.32.0->msgen)\n",
      "Requirement already satisfied: chardet<3.1.0,>=3.0.2 in /home/nbuser/anaconda2_501/lib/python2.7/site-packages (from requests>=2.11.1->msgen)\n",
      "Requirement already satisfied: idna<2.7,>=2.5 in /home/nbuser/anaconda2_501/lib/python2.7/site-packages (from requests>=2.11.1->msgen)\n",
      "Requirement already satisfied: urllib3<1.23,>=1.21.1 in /home/nbuser/anaconda2_501/lib/python2.7/site-packages (from requests>=2.11.1->msgen)\n",
      "Requirement already satisfied: certifi>=2017.4.17 in /home/nbuser/anaconda2_501/lib/python2.7/site-packages (from requests>=2.11.1->msgen)\n",
      "Requirement already satisfied: six>=1.5 in /home/nbuser/anaconda2_501/lib/python2.7/site-packages (from python-dateutil->azure-storage==0.32.0->msgen)\n",
      "Installing collected packages: azure-storage\n",
      "  Found existing installation: azure-storage 0.34.3\n",
      "    Uninstalling azure-storage-0.34.3:\n",
      "      Successfully uninstalled azure-storage-0.34.3\n",
      "Successfully installed azure-storage-0.32.0\n"
     ]
    }
   ],
   "source": [
    "# Make sure Microsoft Genomics client is installed\n",
    "!pip install --upgrade --no-deps msgen\n",
    "!pip install msgen"
   ]
  },
  {
   "cell_type": "code",
   "execution_count": 2,
   "metadata": {},
   "outputs": [
    {
     "name": "stdout",
     "output_type": "stream",
     "text": [
      "/home/nbuser/library\r\n"
     ]
    }
   ],
   "source": [
    "#Check the config.txt file can be found\n",
    "!pwd"
   ]
  },
  {
   "cell_type": "code",
   "execution_count": 3,
   "metadata": {},
   "outputs": [
    {
     "name": "stdout",
     "output_type": "stream",
     "text": [
      "1_get_some_tweets.ipynb  GoogleImageRecognition.ipynb  cloud1.ipynb\r\n",
      "2_datacleaning.ipynb\t MSGenomics.ipynb\t       config.txt\r\n",
      "3_geolocation.ipynb\t M_M_Benchmark.ipynb\t       trump_new.json\r\n"
     ]
    }
   ],
   "source": [
    "!ls"
   ]
  },
  {
   "cell_type": "code",
   "execution_count": 4,
   "metadata": {},
   "outputs": [
    {
     "name": "stdout",
     "output_type": "stream",
     "text": [
      "Microsoft Genomics command-line client v0.7.3\n",
      "Copyright (c) 2018 Microsoft. All rights reserved.\n",
      "\n",
      "Workflow List\n",
      "-------------\n",
      "Total Count  : 0\n",
      "\n"
     ]
    }
   ],
   "source": [
    "# Confirm command line client works\n",
    "!msgen list -f \"config.txt\""
   ]
  },
  {
   "cell_type": "markdown",
   "metadata": {},
   "source": [
    "### Follow the remainder of the tutorial at:\n",
    "\n",
    "https://docs.microsoft.com/en-us/azure/genomics/quickstart-run-genomics-workflow-portal\n",
    "    \n",
    "starting with the section to **create an Azure storage account**. You should be able to reuse an account from a previous lab if you haven't already created one."
   ]
  },
  {
   "cell_type": "code",
   "execution_count": null,
   "metadata": {},
   "outputs": [],
   "source": []
  }
 ],
 "metadata": {
  "kernelspec": {
   "display_name": "Python 2",
   "language": "python",
   "name": "python2"
  },
  "language_info": {
   "codemirror_mode": {
    "name": "ipython",
    "version": 2
   },
   "file_extension": ".py",
   "mimetype": "text/x-python",
   "name": "python",
   "nbconvert_exporter": "python",
   "pygments_lexer": "ipython2",
   "version": "2.7.14"
  }
 },
 "nbformat": 4,
 "nbformat_minor": 2
}
